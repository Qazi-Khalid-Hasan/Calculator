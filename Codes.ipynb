#calculator
# 1. User menu function
def display_menu():
    print('Calculator Menu:')
    print('1. Addition')
    print('2. Subtraction')
    print('3. Multiplication')
    print('4. Division')
    print('5. Exit')
    choice = input('Enter your choice (1-5): ')
    return choice

# 2. User input function
def get_user_input():
    while True:
        try:
            num1 = float(input('Enter First Number: '))
            num2 = float(input('Enter Second Number: '))
            return num1, num2
        except ValueError:
            print("Incorrect number. Enter a correct one.")

# 3. Calculator function
def perform_calculation(operation, num1, num2):
    if operation == '1':
        return num1 + num2
    elif operation == '2':
        return num1 - num2
    elif operation == '3':
        return num1 * num2
    elif operation == '4':
        if num2 != 0:
            return num1 / num2
        else:
            print('Cannot divide by zero. Please enter a non-zero value.')
            return None
    else:
        print('Invalid Choice!')
        return None

# 4. Example usage function
def simulate_function():
    while True:
        choice = display_menu()

        if choice == '5':
            print('Exiting the calculator. Goodbye!')
            break  # Added break to exit the infinite loop

        num1, num2 = get_user_input()

        result = perform_calculation(choice, num1, num2)
        if result is not None:
            print(f'Result: {result}')

# Run the example
simulate_function()
